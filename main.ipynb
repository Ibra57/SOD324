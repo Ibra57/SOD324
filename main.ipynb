{
 "cells": [
  {
   "cell_type": "code",
   "execution_count": 68,
   "metadata": {},
   "outputs": [],
   "source": [
    "import numpy as np \n",
    "import matplotlib.pyplot as plt\n"
   ]
  },
  {
   "cell_type": "code",
   "execution_count": 103,
   "metadata": {},
   "outputs": [],
   "source": [
    "N =16"
   ]
  },
  {
   "cell_type": "code",
   "execution_count": 104,
   "metadata": {},
   "outputs": [
    {
     "name": "stdout",
     "output_type": "stream",
     "text": [
      "{0: [0, 0], 1: [0, 1], 2: [0, 2], 3: [0, 3], 4: [1, 0], 5: [1, 1], 6: [1, 2], 7: [1, 3], 8: [2, 0], 9: [2, 1], 10: [2, 2], 11: [2, 3], 12: [3, 0], 13: [3, 1], 14: [3, 2], 15: [3, 3]}\n"
     ]
    }
   ],
   "source": [
    "Rcapt = 5\n",
    "Rcom = 6\n",
    "\n",
    "coord_target_dict = {}\n",
    "for i in range(0, 16):\n",
    "    coord_target_dict[i] = [i // 4 , i % 4 ]\n",
    "\n",
    "print(coord_target_dict)\n",
    "list_capt = []\n",
    "list_target = np.arange(0, N)\n",
    "\n"
   ]
  },
  {
   "cell_type": "code",
   "execution_count": 105,
   "metadata": {},
   "outputs": [],
   "source": [
    "def dist_capt(coord1, coord2):\n",
    "    return np.sqrt((coord1[0]-coord2[0])**2 + (coord1[1]-coord2[1])**2)\n",
    "\n"
   ]
  },
  {
   "cell_type": "code",
   "execution_count": 106,
   "metadata": {},
   "outputs": [
    {
     "name": "stdout",
     "output_type": "stream",
     "text": [
      "[[0.         1.         2.         3.         1.         1.41421356\n",
      "  2.23606798 3.16227766 2.         2.23606798 2.82842712 3.60555128\n",
      "  3.         3.16227766 3.60555128 4.24264069]\n",
      " [1.         0.         1.         2.         1.41421356 1.\n",
      "  1.41421356 2.23606798 2.23606798 2.         2.23606798 2.82842712\n",
      "  3.16227766 3.         3.16227766 3.60555128]\n",
      " [2.         1.         0.         1.         2.23606798 1.41421356\n",
      "  1.         1.41421356 2.82842712 2.23606798 2.         2.23606798\n",
      "  3.60555128 3.16227766 3.         3.16227766]\n",
      " [3.         2.         1.         0.         3.16227766 2.23606798\n",
      "  1.41421356 1.         3.60555128 2.82842712 2.23606798 2.\n",
      "  4.24264069 3.60555128 3.16227766 3.        ]\n",
      " [1.         1.41421356 2.23606798 3.16227766 0.         1.\n",
      "  2.         3.         1.         1.41421356 2.23606798 3.16227766\n",
      "  2.         2.23606798 2.82842712 3.60555128]\n",
      " [1.41421356 1.         1.41421356 2.23606798 1.         0.\n",
      "  1.         2.         1.41421356 1.         1.41421356 2.23606798\n",
      "  2.23606798 2.         2.23606798 2.82842712]\n",
      " [2.23606798 1.41421356 1.         1.41421356 2.         1.\n",
      "  0.         1.         2.23606798 1.41421356 1.         1.41421356\n",
      "  2.82842712 2.23606798 2.         2.23606798]\n",
      " [3.16227766 2.23606798 1.41421356 1.         3.         2.\n",
      "  1.         0.         3.16227766 2.23606798 1.41421356 1.\n",
      "  3.60555128 2.82842712 2.23606798 2.        ]\n",
      " [2.         2.23606798 2.82842712 3.60555128 1.         1.41421356\n",
      "  2.23606798 3.16227766 0.         1.         2.         3.\n",
      "  1.         1.41421356 2.23606798 3.16227766]\n",
      " [2.23606798 2.         2.23606798 2.82842712 1.41421356 1.\n",
      "  1.41421356 2.23606798 1.         0.         1.         2.\n",
      "  1.41421356 1.         1.41421356 2.23606798]\n",
      " [2.82842712 2.23606798 2.         2.23606798 2.23606798 1.41421356\n",
      "  1.         1.41421356 2.         1.         0.         1.\n",
      "  2.23606798 1.41421356 1.         1.41421356]\n",
      " [3.60555128 2.82842712 2.23606798 2.         3.16227766 2.23606798\n",
      "  1.41421356 1.         3.         2.         1.         0.\n",
      "  3.16227766 2.23606798 1.41421356 1.        ]\n",
      " [3.         3.16227766 3.60555128 4.24264069 2.         2.23606798\n",
      "  2.82842712 3.60555128 1.         1.41421356 2.23606798 3.16227766\n",
      "  0.         1.         2.         3.        ]\n",
      " [3.16227766 3.         3.16227766 3.60555128 2.23606798 2.\n",
      "  2.23606798 2.82842712 1.41421356 1.         1.41421356 2.23606798\n",
      "  1.         0.         1.         2.        ]\n",
      " [3.60555128 3.16227766 3.         3.16227766 2.82842712 2.23606798\n",
      "  2.         2.23606798 2.23606798 1.41421356 1.         1.41421356\n",
      "  2.         1.         0.         1.        ]\n",
      " [4.24264069 3.60555128 3.16227766 3.         3.60555128 2.82842712\n",
      "  2.23606798 2.         3.16227766 2.23606798 1.41421356 1.\n",
      "  3.         2.         1.         0.        ]]\n",
      "dict_values([[0, 0], [0, 1], [0, 2], [0, 3], [1, 0], [1, 1], [1, 2], [1, 3], [2, 0], [2, 1], [2, 2], [2, 3], [3, 0], [3, 1], [3, 2], [3, 3]])\n"
     ]
    }
   ],
   "source": [
    "def graph_dist(list_target,coord_target):\n",
    "    graph = np.zeros((len(list_target),len(list_target)))\n",
    "    for i in range(len(list_target)):\n",
    "        for j in range(len(list_target)):\n",
    "            if i!=j:\n",
    "                graph[i,j] = dist_capt(coord_target_dict[i], coord_target_dict[j])\n",
    "    return graph\n",
    "\n",
    "table_dist = graph_dist(list_target,coord_target_dict)\n",
    "print(table_dist)\n",
    "print(coord_target_dict.values())\n",
    "#available_capt = coord_target_dict.values()\n",
    "\n",
    "\n",
    "\n",
    "list_neighbors = []\n",
    "dist_neighbors = []\n",
    "number_neighbors=[]\n",
    "\n",
    "\n",
    "\n",
    "\n",
    "for i in range(N):\n",
    "\n",
    "    list_neighbors.append([])\n",
    "    dist_neighbors.append([])\n",
    "    for (j,target_neigh) in enumerate(list_target):\n",
    "    \n",
    "        if i!=j:\n",
    "            if table_dist[i,j] <= 1.5:\n",
    "                \n",
    "                list_neighbors[i].append(target_neigh)\n",
    "                dist_neighbors[i].append(table_dist[i,j])\n",
    "\n"
   ]
  },
  {
   "cell_type": "code",
   "execution_count": 107,
   "metadata": {},
   "outputs": [
    {
     "name": "stdout",
     "output_type": "stream",
     "text": [
      "{0: [2, [1, 4, 5], [1.0, 1.0, 1.4142135623730951], 2], 1: [0, [0, 2, 4, 5, 6], [1.0, 1.0, 1.4142135623730951, 1.0, 1.4142135623730951], 0], 2: [0, [1, 3, 5, 6, 7], [1.0, 1.0, 1.4142135623730951, 1.0, 1.4142135623730951], 0], 3: [0, [2, 6, 7], [1.0, 1.4142135623730951, 1.0], 0], 4: [0, [0, 1, 5, 8, 9], [1.0, 1.4142135623730951, 1.0, 1.0, 1.4142135623730951], 0], 5: [0, [0, 1, 2, 4, 6, 8, 9, 10], [1.4142135623730951, 1.0, 1.4142135623730951, 1.0, 1.0, 1.4142135623730951, 1.0, 1.4142135623730951], 0], 6: [0, [1, 2, 3, 5, 7, 9, 10, 11], [1.4142135623730951, 1.0, 1.4142135623730951, 1.0, 1.0, 1.4142135623730951, 1.0, 1.4142135623730951], 0], 7: [0, [2, 3, 6, 10, 11], [1.4142135623730951, 1.0, 1.0, 1.4142135623730951, 1.0], 0], 8: [0, [4, 5, 9, 12, 13], [1.0, 1.4142135623730951, 1.0, 1.0, 1.4142135623730951], 0], 9: [0, [4, 5, 6, 8, 10, 12, 13, 14], [1.4142135623730951, 1.0, 1.4142135623730951, 1.0, 1.0, 1.4142135623730951, 1.0, 1.4142135623730951], 0], 10: [0, [5, 6, 7, 9, 11, 13, 14, 15], [1.4142135623730951, 1.0, 1.4142135623730951, 1.0, 1.0, 1.4142135623730951, 1.0, 1.4142135623730951], 0], 11: [0, [6, 7, 10, 14, 15], [1.4142135623730951, 1.0, 1.0, 1.4142135623730951, 1.0], 0], 12: [0, [8, 9, 13], [1.0, 1.4142135623730951, 1.0], 0], 13: [0, [8, 9, 10, 12, 14], [1.4142135623730951, 1.0, 1.4142135623730951, 1.0, 1.0], 0], 14: [0, [9, 10, 11, 13, 15], [1.4142135623730951, 1.0, 1.4142135623730951, 1.0, 1.0], 0], 15: [0, [10, 11, 14], [1.4142135623730951, 1.0, 1.0], 0]}\n"
     ]
    }
   ],
   "source": [
    "is_taken = dict.fromkeys(coord_target_dict.keys(), 0)\n",
    "is_taken[0] = 2\n",
    "\n",
    "# Add the list of neighbors for each key\n",
    "for key, neighbors in enumerate(list_neighbors):\n",
    "    \n",
    "    is_taken[key] = [is_taken[key], neighbors, dist_neighbors[key], is_taken[key]]\n",
    "\n",
    "\n",
    "print(is_taken)"
   ]
  },
  {
   "cell_type": "code",
   "execution_count": 108,
   "metadata": {},
   "outputs": [
    {
     "data": {
      "text/plain": [
       "{0: [2, [1, 4, 5], [1.0, 1.0, 1.4142135623730951]],\n",
       " 1: [0,\n",
       "  [0, 2, 4, 5, 6],\n",
       "  [1.0, 1.0, 1.4142135623730951, 1.0, 1.4142135623730951]],\n",
       " 2: [0,\n",
       "  [1, 3, 5, 6, 7],\n",
       "  [1.0, 1.0, 1.4142135623730951, 1.0, 1.4142135623730951]],\n",
       " 3: [0, [2, 6, 7], [1.0, 1.4142135623730951, 1.0]],\n",
       " 4: [0,\n",
       "  [0, 1, 5, 8, 9],\n",
       "  [1.0, 1.4142135623730951, 1.0, 1.0, 1.4142135623730951]],\n",
       " 5: [0,\n",
       "  [0, 1, 2, 4, 6, 8, 9, 10],\n",
       "  [1.4142135623730951,\n",
       "   1.0,\n",
       "   1.4142135623730951,\n",
       "   1.0,\n",
       "   1.0,\n",
       "   1.4142135623730951,\n",
       "   1.0,\n",
       "   1.4142135623730951]],\n",
       " 6: [0,\n",
       "  [1, 2, 3, 5, 7, 9, 10, 11],\n",
       "  [1.4142135623730951,\n",
       "   1.0,\n",
       "   1.4142135623730951,\n",
       "   1.0,\n",
       "   1.0,\n",
       "   1.4142135623730951,\n",
       "   1.0,\n",
       "   1.4142135623730951]],\n",
       " 7: [0,\n",
       "  [2, 3, 6, 10, 11],\n",
       "  [1.4142135623730951, 1.0, 1.0, 1.4142135623730951, 1.0]],\n",
       " 8: [0,\n",
       "  [4, 5, 9, 12, 13],\n",
       "  [1.0, 1.4142135623730951, 1.0, 1.0, 1.4142135623730951]],\n",
       " 9: [0,\n",
       "  [4, 5, 6, 8, 10, 12, 13, 14],\n",
       "  [1.4142135623730951,\n",
       "   1.0,\n",
       "   1.4142135623730951,\n",
       "   1.0,\n",
       "   1.0,\n",
       "   1.4142135623730951,\n",
       "   1.0,\n",
       "   1.4142135623730951]],\n",
       " 10: [0,\n",
       "  [5, 6, 7, 9, 11, 13, 14, 15],\n",
       "  [1.4142135623730951,\n",
       "   1.0,\n",
       "   1.4142135623730951,\n",
       "   1.0,\n",
       "   1.0,\n",
       "   1.4142135623730951,\n",
       "   1.0,\n",
       "   1.4142135623730951]],\n",
       " 11: [0,\n",
       "  [6, 7, 10, 14, 15],\n",
       "  [1.4142135623730951, 1.0, 1.0, 1.4142135623730951, 1.0]],\n",
       " 12: [0, [8, 9, 13], [1.0, 1.4142135623730951, 1.0]],\n",
       " 13: [0,\n",
       "  [8, 9, 10, 12, 14],\n",
       "  [1.4142135623730951, 1.0, 1.4142135623730951, 1.0, 1.0]],\n",
       " 14: [0,\n",
       "  [9, 10, 11, 13, 15],\n",
       "  [1.4142135623730951, 1.0, 1.4142135623730951, 1.0, 1.0]],\n",
       " 15: [0, [10, 11, 14], [1.4142135623730951, 1.0, 1.0]]}"
      ]
     },
     "execution_count": 108,
     "metadata": {},
     "output_type": "execute_result"
    }
   ],
   "source": [
    "is_covered = dict.fromkeys(coord_target_dict.keys(), 0)\n",
    "is_covered[0] = 2\n",
    "\n",
    "for key, neighbors in enumerate(list_neighbors):\n",
    "    is_covered[key] = [is_covered[key],neighbors, dist_neighbors[key]]\n",
    "is_covered"
   ]
  },
  {
   "cell_type": "code",
   "execution_count": 109,
   "metadata": {},
   "outputs": [
    {
     "name": "stdout",
     "output_type": "stream",
     "text": [
      "[[1, 4, 5], [0, 2, 4, 5, 6], [1, 3, 5, 6, 7], [2, 6, 7], [0, 1, 5, 8, 9], [0, 1, 2, 4, 6, 8, 9, 10], [1, 2, 3, 5, 7, 9, 10, 11], [2, 3, 6, 10, 11], [4, 5, 9, 12, 13], [4, 5, 6, 8, 10, 12, 13, 14], [5, 6, 7, 9, 11, 13, 14, 15], [6, 7, 10, 14, 15], [8, 9, 13], [8, 9, 10, 12, 14], [9, 10, 11, 13, 15], [10, 11, 14]]\n"
     ]
    }
   ],
   "source": [
    "\n",
    "indices_less_than_R = np.where(table_dist[1] < 1.5)\n",
    "#print(indices_less_than_R)\n",
    "print(list_neighbors)\n"
   ]
  },
  {
   "cell_type": "code",
   "execution_count": 110,
   "metadata": {},
   "outputs": [],
   "source": [
    "def number_covered(is_taken, key):\n",
    "    nb_capts = 0\n",
    "    for x in is_taken[key][1]:\n",
    "        \n",
    "        if is_taken[x][0] == 1:\n",
    "            nb_capts += 1\n",
    "    if is_taken[key][0] == 1:\n",
    "        nb_capts += 1\n",
    "    return nb_capts"
   ]
  },
  {
   "cell_type": "code",
   "execution_count": 92,
   "metadata": {},
   "outputs": [],
   "source": [
    "N = 16"
   ]
  },
  {
   "cell_type": "code",
   "execution_count": 111,
   "metadata": {},
   "outputs": [],
   "source": [
    "def gloutonne1(graph, is_taken, Rcapt, coord_target_dict, Rcom, list_neighbors, k):\n",
    "    graph_copy= graph\n",
    "    n = int(np.sqrt(len(graph)))\n",
    "    print(n)\n",
    "\n",
    "    for i in range(16-1, 0, -1):\n",
    "\n",
    "        # If there are indices less than R, find the maximum among those values\n",
    "        indices_less_than_R = is_taken[i][1]\n",
    "\n",
    "        if len(indices_less_than_R) > 0:\n",
    "            k1 = number_covered(is_taken, i)\n",
    "            print(k1, k)\n",
    "            while k1 < k:\n",
    "\n",
    "                max_value_below_R = np.max(graph_copy[i][indices_less_than_R])\n",
    "                if max_value_below_R == 0:\n",
    "                    raise ValueError(\"There are no values below R.\")\n",
    "                max_index_below_R = np.argmax(graph_copy[i] == max_value_below_R)\n",
    "\n",
    "                graph_copy[i,max_index_below_R] = 0\n",
    "                if is_taken[max_index_below_R][0] == 0:\n",
    "                    is_taken[max_index_below_R][0] = 1\n",
    "                    k1+=1\n",
    "                if k1==k:\n",
    "                    is_taken[i][3] = 1\n",
    "                    print(\"captured\")\n",
    "                    print(is_taken)\n",
    "                    \n",
    "                    \n",
    "                print(max_value_below_R)\n",
    "        else:\n",
    "            print(\"There are no values below R.\")\n",
    "\n",
    "        list_capt.append(i)"
   ]
  },
  {
   "cell_type": "code",
   "execution_count": 112,
   "metadata": {},
   "outputs": [
    {
     "name": "stdout",
     "output_type": "stream",
     "text": [
      "4\n",
      "0 2\n",
      "1.4142135623730951\n",
      "captured\n",
      "{0: [2, [1, 4, 5], [1.0, 1.0, 1.4142135623730951], 2], 1: [0, [0, 2, 4, 5, 6], [1.0, 1.0, 1.4142135623730951, 1.0, 1.4142135623730951], 0], 2: [0, [1, 3, 5, 6, 7], [1.0, 1.0, 1.4142135623730951, 1.0, 1.4142135623730951], 0], 3: [0, [2, 6, 7], [1.0, 1.4142135623730951, 1.0], 0], 4: [0, [0, 1, 5, 8, 9], [1.0, 1.4142135623730951, 1.0, 1.0, 1.4142135623730951], 0], 5: [0, [0, 1, 2, 4, 6, 8, 9, 10], [1.4142135623730951, 1.0, 1.4142135623730951, 1.0, 1.0, 1.4142135623730951, 1.0, 1.4142135623730951], 0], 6: [0, [1, 2, 3, 5, 7, 9, 10, 11], [1.4142135623730951, 1.0, 1.4142135623730951, 1.0, 1.0, 1.4142135623730951, 1.0, 1.4142135623730951], 0], 7: [0, [2, 3, 6, 10, 11], [1.4142135623730951, 1.0, 1.0, 1.4142135623730951, 1.0], 0], 8: [0, [4, 5, 9, 12, 13], [1.0, 1.4142135623730951, 1.0, 1.0, 1.4142135623730951], 0], 9: [0, [4, 5, 6, 8, 10, 12, 13, 14], [1.4142135623730951, 1.0, 1.4142135623730951, 1.0, 1.0, 1.4142135623730951, 1.0, 1.4142135623730951], 0], 10: [1, [5, 6, 7, 9, 11, 13, 14, 15], [1.4142135623730951, 1.0, 1.4142135623730951, 1.0, 1.0, 1.4142135623730951, 1.0, 1.4142135623730951], 0], 11: [1, [6, 7, 10, 14, 15], [1.4142135623730951, 1.0, 1.0, 1.4142135623730951, 1.0], 0], 12: [0, [8, 9, 13], [1.0, 1.4142135623730951, 1.0], 0], 13: [0, [8, 9, 10, 12, 14], [1.4142135623730951, 1.0, 1.4142135623730951, 1.0, 1.0], 0], 14: [0, [9, 10, 11, 13, 15], [1.4142135623730951, 1.0, 1.4142135623730951, 1.0, 1.0], 0], 15: [0, [10, 11, 14], [1.4142135623730951, 1.0, 1.0], 1]}\n",
      "1.0\n",
      "2 2\n",
      "1 2\n",
      "captured\n",
      "{0: [2, [1, 4, 5], [1.0, 1.0, 1.4142135623730951], 2], 1: [0, [0, 2, 4, 5, 6], [1.0, 1.0, 1.4142135623730951, 1.0, 1.4142135623730951], 0], 2: [0, [1, 3, 5, 6, 7], [1.0, 1.0, 1.4142135623730951, 1.0, 1.4142135623730951], 0], 3: [0, [2, 6, 7], [1.0, 1.4142135623730951, 1.0], 0], 4: [0, [0, 1, 5, 8, 9], [1.0, 1.4142135623730951, 1.0, 1.0, 1.4142135623730951], 0], 5: [0, [0, 1, 2, 4, 6, 8, 9, 10], [1.4142135623730951, 1.0, 1.4142135623730951, 1.0, 1.0, 1.4142135623730951, 1.0, 1.4142135623730951], 0], 6: [0, [1, 2, 3, 5, 7, 9, 10, 11], [1.4142135623730951, 1.0, 1.4142135623730951, 1.0, 1.0, 1.4142135623730951, 1.0, 1.4142135623730951], 0], 7: [0, [2, 3, 6, 10, 11], [1.4142135623730951, 1.0, 1.0, 1.4142135623730951, 1.0], 0], 8: [1, [4, 5, 9, 12, 13], [1.0, 1.4142135623730951, 1.0, 1.0, 1.4142135623730951], 0], 9: [0, [4, 5, 6, 8, 10, 12, 13, 14], [1.4142135623730951, 1.0, 1.4142135623730951, 1.0, 1.0, 1.4142135623730951, 1.0, 1.4142135623730951], 0], 10: [1, [5, 6, 7, 9, 11, 13, 14, 15], [1.4142135623730951, 1.0, 1.4142135623730951, 1.0, 1.0, 1.4142135623730951, 1.0, 1.4142135623730951], 0], 11: [1, [6, 7, 10, 14, 15], [1.4142135623730951, 1.0, 1.0, 1.4142135623730951, 1.0], 0], 12: [0, [8, 9, 13], [1.0, 1.4142135623730951, 1.0], 0], 13: [0, [8, 9, 10, 12, 14], [1.4142135623730951, 1.0, 1.4142135623730951, 1.0, 1.0], 1], 14: [0, [9, 10, 11, 13, 15], [1.4142135623730951, 1.0, 1.4142135623730951, 1.0, 1.0], 0], 15: [0, [10, 11, 14], [1.4142135623730951, 1.0, 1.0], 1]}\n",
      "1.4142135623730951\n",
      "1 2\n",
      "captured\n",
      "{0: [2, [1, 4, 5], [1.0, 1.0, 1.4142135623730951], 2], 1: [0, [0, 2, 4, 5, 6], [1.0, 1.0, 1.4142135623730951, 1.0, 1.4142135623730951], 0], 2: [0, [1, 3, 5, 6, 7], [1.0, 1.0, 1.4142135623730951, 1.0, 1.4142135623730951], 0], 3: [0, [2, 6, 7], [1.0, 1.4142135623730951, 1.0], 0], 4: [0, [0, 1, 5, 8, 9], [1.0, 1.4142135623730951, 1.0, 1.0, 1.4142135623730951], 0], 5: [0, [0, 1, 2, 4, 6, 8, 9, 10], [1.4142135623730951, 1.0, 1.4142135623730951, 1.0, 1.0, 1.4142135623730951, 1.0, 1.4142135623730951], 0], 6: [0, [1, 2, 3, 5, 7, 9, 10, 11], [1.4142135623730951, 1.0, 1.4142135623730951, 1.0, 1.0, 1.4142135623730951, 1.0, 1.4142135623730951], 0], 7: [0, [2, 3, 6, 10, 11], [1.4142135623730951, 1.0, 1.0, 1.4142135623730951, 1.0], 0], 8: [1, [4, 5, 9, 12, 13], [1.0, 1.4142135623730951, 1.0, 1.0, 1.4142135623730951], 0], 9: [1, [4, 5, 6, 8, 10, 12, 13, 14], [1.4142135623730951, 1.0, 1.4142135623730951, 1.0, 1.0, 1.4142135623730951, 1.0, 1.4142135623730951], 0], 10: [1, [5, 6, 7, 9, 11, 13, 14, 15], [1.4142135623730951, 1.0, 1.4142135623730951, 1.0, 1.0, 1.4142135623730951, 1.0, 1.4142135623730951], 0], 11: [1, [6, 7, 10, 14, 15], [1.4142135623730951, 1.0, 1.0, 1.4142135623730951, 1.0], 0], 12: [0, [8, 9, 13], [1.0, 1.4142135623730951, 1.0], 1], 13: [0, [8, 9, 10, 12, 14], [1.4142135623730951, 1.0, 1.4142135623730951, 1.0, 1.0], 1], 14: [0, [9, 10, 11, 13, 15], [1.4142135623730951, 1.0, 1.4142135623730951, 1.0, 1.0], 0], 15: [0, [10, 11, 14], [1.4142135623730951, 1.0, 1.0], 1]}\n",
      "1.4142135623730951\n",
      "2 2\n",
      "3 2\n",
      "3 2\n",
      "2 2\n",
      "2 2\n",
      "3 2\n",
      "3 2\n",
      "2 2\n",
      "0 2\n",
      "1.4142135623730951\n",
      "captured\n",
      "{0: [2, [1, 4, 5], [1.0, 1.0, 1.4142135623730951], 2], 1: [0, [0, 2, 4, 5, 6], [1.0, 1.0, 1.4142135623730951, 1.0, 1.4142135623730951], 0], 2: [1, [1, 3, 5, 6, 7], [1.0, 1.0, 1.4142135623730951, 1.0, 1.4142135623730951], 0], 3: [0, [2, 6, 7], [1.0, 1.4142135623730951, 1.0], 1], 4: [0, [0, 1, 5, 8, 9], [1.0, 1.4142135623730951, 1.0, 1.0, 1.4142135623730951], 0], 5: [0, [0, 1, 2, 4, 6, 8, 9, 10], [1.4142135623730951, 1.0, 1.4142135623730951, 1.0, 1.0, 1.4142135623730951, 1.0, 1.4142135623730951], 0], 6: [1, [1, 2, 3, 5, 7, 9, 10, 11], [1.4142135623730951, 1.0, 1.4142135623730951, 1.0, 1.0, 1.4142135623730951, 1.0, 1.4142135623730951], 0], 7: [0, [2, 3, 6, 10, 11], [1.4142135623730951, 1.0, 1.0, 1.4142135623730951, 1.0], 0], 8: [1, [4, 5, 9, 12, 13], [1.0, 1.4142135623730951, 1.0, 1.0, 1.4142135623730951], 0], 9: [1, [4, 5, 6, 8, 10, 12, 13, 14], [1.4142135623730951, 1.0, 1.4142135623730951, 1.0, 1.0, 1.4142135623730951, 1.0, 1.4142135623730951], 0], 10: [1, [5, 6, 7, 9, 11, 13, 14, 15], [1.4142135623730951, 1.0, 1.4142135623730951, 1.0, 1.0, 1.4142135623730951, 1.0, 1.4142135623730951], 0], 11: [1, [6, 7, 10, 14, 15], [1.4142135623730951, 1.0, 1.0, 1.4142135623730951, 1.0], 0], 12: [0, [8, 9, 13], [1.0, 1.4142135623730951, 1.0], 1], 13: [0, [8, 9, 10, 12, 14], [1.4142135623730951, 1.0, 1.4142135623730951, 1.0, 1.0], 1], 14: [0, [9, 10, 11, 13, 15], [1.4142135623730951, 1.0, 1.4142135623730951, 1.0, 1.0], 0], 15: [0, [10, 11, 14], [1.4142135623730951, 1.0, 1.0], 1]}\n",
      "1.0\n",
      "2 2\n",
      "2 2\n"
     ]
    }
   ],
   "source": [
    "gloutonne1(table_dist, is_taken, Rcapt, coord_target_dict, Rcom, list_neighbors, 2)\n"
   ]
  },
  {
   "cell_type": "code",
   "execution_count": 53,
   "metadata": {},
   "outputs": [
    {
     "name": "stdout",
     "output_type": "stream",
     "text": [
      "{0: [2, [1, 3, 4], [1.0, 1.0, 1.4142135623730951], 2], 1: [0, [0, 2, 3, 4, 5], [1.0, 1.0, 1.4142135623730951, 1.0, 1.4142135623730951], 0], 2: [0, [1, 4, 5], [1.0, 1.4142135623730951, 1.0], 0], 3: [0, [0, 1, 4, 6, 7], [1.0, 1.4142135623730951, 1.0, 1.0, 1.4142135623730951], 0], 4: [0, [0, 1, 2, 3, 5, 6, 7, 8], [1.4142135623730951, 1.0, 1.4142135623730951, 1.0, 1.0, 1.4142135623730951, 1.0, 1.4142135623730951], 0], 5: [0, [1, 2, 4, 7, 8], [1.4142135623730951, 1.0, 1.0, 1.4142135623730951, 1.0], 0], 6: [0, [3, 4, 7], [1.0, 1.4142135623730951, 1.0], 0], 7: [0, [3, 4, 5, 6, 8], [1.4142135623730951, 1.0, 1.4142135623730951, 1.0, 1.0], 0], 8: [0, [4, 5, 7], [1.4142135623730951, 1.0, 1.0], 0]}\n"
     ]
    }
   ],
   "source": [
    "print(is_taken)"
   ]
  },
  {
   "cell_type": "code",
   "execution_count": 115,
   "metadata": {},
   "outputs": [
    {
     "name": "stdout",
     "output_type": "stream",
     "text": [
      "{0: [0, 0], 1: [0, 1], 2: [0, 2], 3: [0, 3], 4: [1, 0], 5: [1, 1], 6: [1, 2], 7: [1, 3], 8: [2, 0], 9: [2, 1], 10: [2, 2], 11: [2, 3], 12: [3, 0], 13: [3, 1], 14: [3, 2], 15: [3, 3]}\n"
     ]
    }
   ],
   "source": [
    "print(coord_target_dict)"
   ]
  },
  {
   "cell_type": "code",
   "execution_count": 117,
   "metadata": {},
   "outputs": [
    {
     "data": {
      "image/png": "[encoded data removed]",
      "text/plain": [
       "<Figure size 640x480 with 1 Axes>"
      ]
     },
     "metadata": {},
     "output_type": "display_data"
    }
   ],
   "source": [
    "plt.grid()\n",
    "plt.scatter([coord_target_dict[i][1] for i in range(N)], [coord_target_dict[i][0] for i in range(N)], c='r')\n",
    "#plt.imshow(table_dist)\n",
    "for i in range(16):\n",
    "    if is_taken[i][0] == 1:\n",
    "        plt.scatter(coord_target_dict[i][1], coord_target_dict[i][0], c='b')\n",
    "    plt.annotate(str(i), (coord_target_dict[i][0], coord_target_dict[i][1]))\n",
    "#plt.angle_spectrum()\n",
    "plt.show()"
   ]
  },
  {
   "cell_type": "code",
   "execution_count": 11,
   "metadata": {},
   "outputs": [],
   "source": [
    "\n",
    "#np.partition(table_dist[i], -2)[-2:]\n",
    "def gloutonne(graph, is_taken, Rcapt, coord_target_dict, Rcom, list_neighbors, k):\n",
    "    graph_copy= graph\n",
    "    n = len(list_target)\n",
    "\n",
    "    for i in range(n, 0, -1):\n",
    "\n",
    "        # If there are indices less than R, find the maximum among those values\n",
    "        indices_less_than_R = np.where(graph_copy[i] < Rcapt)\n",
    "\n",
    "        for j in range(n, -1, -1):  \n",
    "\n",
    "            if len(indices_less_than_R[0]) > 0:\n",
    "                for l in range(k):\n",
    "\n",
    "                    max_value_below_R = np.max(is_taken[i][indices_less_than_R])\n",
    "                    max_index_below_R = np.argmax(graph_copy[i] == max_value_below_R)\n",
    "                    graph_copy[i,max_index_below_R]=0\n",
    "                    print(max_value_below_R)\n",
    "            else:\n",
    "                print(\"There are no values below R.\")\n",
    "\n",
    "        list_capt.append(i)"
   ]
  },
  {
   "cell_type": "code",
   "execution_count": 17,
   "metadata": {},
   "outputs": [
    {
     "data": {
      "text/plain": [
       "4"
      ]
     },
     "execution_count": 17,
     "metadata": {},
     "output_type": "execute_result"
    }
   ],
   "source": [
    "np.max([0,1,2,3,4])"
   ]
  },
  {
   "cell_type": "code",
   "execution_count": 68,
   "metadata": {},
   "outputs": [
    {
     "name": "stdout",
     "output_type": "stream",
     "text": [
      "0.0\n",
      "0.0\n",
      "0.0\n",
      "0.0\n",
      "0.0\n",
      "0.0\n",
      "0.0\n",
      "0.0\n",
      "0.0\n",
      "0.0\n",
      "0.0\n",
      "0.0\n",
      "0.0\n",
      "0.0\n",
      "0.0\n",
      "0.0\n",
      "0.0\n",
      "0.0\n"
     ]
    }
   ],
   "source": [
    "gloutonne(table_dist, list_target, 1.5, 2, list_neighbors,k=2)"
   ]
  }
 ],
 "metadata": {
  "kernelspec": {
   "display_name": "Python 3",
   "language": "python",
   "name": "python3"
  },
  "language_info": {
   "codemirror_mode": {
    "name": "ipython",
    "version": 3
   },
   "file_extension": ".py",
   "mimetype": "text/x-python",
   "name": "python",
   "nbconvert_exporter": "python",
   "pygments_lexer": "ipython3",
   "version": "3.9.0"
  }
 },
 "nbformat": 4,
 "nbformat_minor": 2
}
